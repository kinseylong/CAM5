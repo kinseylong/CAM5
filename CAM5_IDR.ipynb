{
 "cells": [
  {
   "cell_type": "code",
   "execution_count": 2,
   "id": "eac0b1a0",
   "metadata": {},
   "outputs": [],
   "source": [
    "from Bio.Seq import Seq"
   ]
  },
  {
   "cell_type": "code",
   "execution_count": 18,
   "id": "d05b99eb",
   "metadata": {},
   "outputs": [],
   "source": [
    "### get all TAIR IDs\n",
    "from Bio import SeqIO\n",
    "\n",
    "for record in SeqIO.parse(\"data/TAIR10/TAIR10proteins.fasta\", \"fasta\"):\n",
    "    with open(\"data/TAIR10/TAIR10_seqs.txt\", \"a\") as f:\n",
    "        f.write(str(record.seq) + \"\\n\")"
   ]
  },
  {
   "cell_type": "code",
   "execution_count": 16,
   "id": "3f7bc501",
   "metadata": {},
   "outputs": [
    {
     "name": "stdout",
     "output_type": "stream",
     "text": [
      "AT1G51370.2\n"
     ]
    },
    {
     "data": {
      "text/plain": [
       "Seq('MVGGKKKTKICDKVSHEEDRISQLPEPLISEILFHLSTKDSVRTSALSTKWRYL...NPS')"
      ]
     },
     "execution_count": 16,
     "metadata": {},
     "output_type": "execute_result"
    }
   ],
   "source": [
    "records = list(SeqIO.parse(\"data/TAIR10/TAIR10proteins.fasta\", \"fasta\"))\n",
    "print(records[0].id)\n",
    "\n",
    "records[0].seq"
   ]
  },
  {
   "cell_type": "code",
   "execution_count": null,
   "id": "f80810a7",
   "metadata": {},
   "outputs": [],
   "source": [
    "### pipeline to get alphafold plddt"
   ]
  },
  {
   "cell_type": "code",
   "execution_count": 34,
   "id": "dc06207b",
   "metadata": {},
   "outputs": [
    {
     "name": "stdout",
     "output_type": "stream",
     "text": [
      "Filtered ranges: [(1, 4)]\n"
     ]
    }
   ],
   "source": [
    "def DL_range(enumerated_values, min_length):\n",
    "    ranges = []\n",
    "    current_range = []\n",
    "\n",
    "    # Iterate through enumerated_values\n",
    "    for index, value in enumerated_values:\n",
    "        if value in ['D', 'L']:\n",
    "            if not current_range:\n",
    "                current_range = [index, index]  # Start a new range\n",
    "            else:\n",
    "                current_range[1] = index  # Extend the current range\n",
    "        else:\n",
    "            if current_range:\n",
    "                # Check if the range length meets the minimum length\n",
    "                if current_range[1] - current_range[0] + 1 >= min_length:\n",
    "                    ranges.append(tuple(current_range))  # Save the completed range\n",
    "                current_range = []  # Reset the range\n",
    "\n",
    "    # Append the last range if it exists and meets the minimum length\n",
    "    if current_range and current_range[1] - current_range[0] + 1 >= min_length:\n",
    "        ranges.append(tuple(current_range))\n",
    "\n",
    "    return ranges\n",
    "\n",
    "# Example usage\n",
    "enumerated_values = list(enumerate([\"A\", \"D\", \"L\", \"D\", \"L\", \"M\", \"D\",\"L\", \"M\"]))\n",
    "min_length = 3\n",
    "filtered_ranges = DL_range(enumerated_values, min_length)\n",
    "print(\"Filtered ranges:\", filtered_ranges)"
   ]
  },
  {
   "cell_type": "code",
   "execution_count": 69,
   "id": "e0a13505",
   "metadata": {},
   "outputs": [],
   "source": [
    "### API to get IDRs from an AlphaFold ID and a protein sequence\n",
    "import requests\n",
    "import json\n",
    "\n",
    "def alphafold_idr(alphafold_ID, protein_sequence, min_IDR_length = 15):\n",
    "    url = f'https://alphafold.ebi.ac.uk/files/AF-{alphafold_ID}-F1-confidence_v4.json'\n",
    "    response = requests.get(url)\n",
    "\n",
    "    if response.status_code == 200:\n",
    "        data = response.json()\n",
    "        \n",
    "        if 'confidenceCategory' in data and 'confidenceScore' in data:\n",
    "            confidence_values = data['confidenceCategory']\n",
    "            #get positions with continuous D and L regions (IDRs)\n",
    "            enumerated_values = list(enumerate(confidence_values))\n",
    "            IDR_positions = DL_range(enumerated_values, min_IDR_length)\n",
    "            #get confidence scores for the positions\n",
    "            confidence_scores = data['confidenceScore']\n",
    "            IDR_scores = []\n",
    "            IDR_seqs = []\n",
    "            IDR_starts = []\n",
    "            IDR_ends = []\n",
    "            for start, end in IDR_positions:\n",
    "                IDR_scores.append(confidence_scores[start:end + 1])\n",
    "                IDR_seqs.append(sequence[start:end + 1])\n",
    "                IDR_starts.append(start)\n",
    "                IDR_ends.append(end)\n",
    "            return IDR_starts, IDR_ends, IDR_seqs, IDR_scores\n",
    "    #error\n",
    "    return None, None, None, None"
   ]
  },
  {
   "cell_type": "code",
   "execution_count": 62,
   "id": "4eb526d9",
   "metadata": {},
   "outputs": [],
   "source": [
    "from tqdm import tqdm"
   ]
  },
  {
   "cell_type": "code",
   "execution_count": 37,
   "id": "86e22a37",
   "metadata": {},
   "outputs": [],
   "source": [
    "import pandas as pd"
   ]
  },
  {
   "cell_type": "code",
   "execution_count": null,
   "id": "ee7f4956",
   "metadata": {},
   "outputs": [
    {
     "name": "stdout",
     "output_type": "stream",
     "text": [
      "True\n"
     ]
    },
    {
     "name": "stderr",
     "output_type": "stream",
     "text": [
      "16it [00:03,  3.85it/s]"
     ]
    }
   ],
   "source": [
    "uniprot = pd.read_csv(\"data/TAIR10/ArabidopsisUniprot.tsv\", sep=\"\\t\")\n",
    "uniprot = uniprot[uniprot['AlphaFoldDB'].notnull()] #remove empty AlphaFoldDB entries\n",
    "\n",
    "print(len(uniprot[[\"Entry\", \"AlphaFoldDB\", \"Sequence\"]].drop_duplicates()) == len(uniprot)) #print number of unique entries\n",
    "uniprot = uniprot[[\"Entry\", \"AlphaFoldDB\", \"Sequence\"]].drop_duplicates()\n",
    "\n",
    "with open(\"data/TAIR10/IDRs.csv\", \"w\") as w:\n",
    "    w.write(\"Entry\\tStart\\tEnd\\tSequence\\tConfidenceScore\\n\")  # Write header for the output file\n",
    "\n",
    "for index, row in tqdm(uniprot.iterrows()):\n",
    "    alphafold_ID = row['AlphaFoldDB'].replace(\";\", \"\")\n",
    "    sequence = row['Sequence']\n",
    "    IDR_starts, IDR_ends, IDR_seq, IDR_scores = alphafold_idr(alphafold_ID, sequence)\n",
    "    \n",
    "    if IDR_starts:  # If there are IDRs found\n",
    "        with open(\"data/TAIR10/IDRs.csv\", \"a\") as f:\n",
    "            for start, end, seq, score in zip(IDR_starts, IDR_ends, IDR_seq, IDR_scores):\n",
    "                f.write(f\"{row['Entry']}\\t{start}\\t{end}\\t{seq}\\t{score}\\n\")\n"
   ]
  },
  {
   "cell_type": "code",
   "execution_count": 72,
   "id": "2eadf232",
   "metadata": {},
   "outputs": [],
   "source": [
    "from localcider.sequenceParameters import SequenceParameters\n",
    "\n"
   ]
  },
  {
   "cell_type": "code",
   "execution_count": null,
   "id": "77ed987f",
   "metadata": {},
   "outputs": [],
   "source": []
  }
 ],
 "metadata": {
  "kernelspec": {
   "display_name": "Python 3",
   "language": "python",
   "name": "python3"
  },
  "language_info": {
   "codemirror_mode": {
    "name": "ipython",
    "version": 3
   },
   "file_extension": ".py",
   "mimetype": "text/x-python",
   "name": "python",
   "nbconvert_exporter": "python",
   "pygments_lexer": "ipython3",
   "version": "3.11.13"
  }
 },
 "nbformat": 4,
 "nbformat_minor": 5
}

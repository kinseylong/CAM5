{
 "cells": [
  {
   "cell_type": "markdown",
   "id": "e731bb91",
   "metadata": {},
   "source": [
    "Does CAM5 IDR have a calmodulin-binding signature?\n",
    "\n",
    "The Calmodulin Target Database14 classifies CaM-binding targets into five distinct motifs: 1–10, 1–14, 1–16, IQ, and Other. Motifs 1–10, 1–14, and 1–16 are"
   ]
  },
  {
   "cell_type": "markdown",
   "id": "11271788",
   "metadata": {},
   "source": []
  },
  {
   "cell_type": "code",
   "execution_count": null,
   "id": "3b40feb0",
   "metadata": {},
   "outputs": [],
   "source": [
    "import numpy as np\n",
    "import pandas as pd\n",
    "import matplotlib.pyplot as plt\n",
    "import seaborn as sns\n"
   ]
  },
  {
   "cell_type": "code",
   "execution_count": 42,
   "id": "8dc1d950",
   "metadata": {},
   "outputs": [],
   "source": [
    "import re"
   ]
  },
  {
   "cell_type": "code",
   "execution_count": 1,
   "id": "b0d23930",
   "metadata": {},
   "outputs": [],
   "source": [
    "aa_classifications = {\"G\": \"Hydrophobic\",\n",
    " \"A\": \"Hydrophobic\",\n",
    " \"V\": \"Hydrophobic\",\n",
    " \"L\": \"Hydrophobic\",\n",
    " \"I\": \"Hydrophobic\",\n",
    " \"F\": \"Hydrophobic\",\n",
    " \"W\": \"Hydrophobic\",\n",
    " \"C\": \"Hydrophobic\",\n",
    " \"M\": \"Hydrophobic\",\n",
    " \"P\": \"Hydrophobic\",\n",
    " \"S\": \"Hydrophilic\",\n",
    " \"T\": \"Hydrophilic\",\n",
    " \"Y\": \"Hydrophilic\",\n",
    " \"N\": \"Hydrophilic\",\n",
    " \"Q\": \"Hydrophilic\",\n",
    " \"H\": \"Basic\",\n",
    " \"K\": \"Basic\",\n",
    " \"R\": \"Basic\",\n",
    " \"D\": \"Acidic\",\n",
    " \"E\": \"Acidic\"}"
   ]
  },
  {
   "cell_type": "code",
   "execution_count": 44,
   "id": "dac77195",
   "metadata": {},
   "outputs": [],
   "source": [
    "regex_search = [\"[FILVW].{8}[FILVW]\",\n",
    "\"[FILVW].{3}[FAILVW].{4}[FILVW]\",\n",
    "\"[RK][RK][RK][FAILVW].{3}[FILV].{4}[FILVW]\",\n",
    "\"[FILVW].{10}[FILVW]\",\n",
    "\"[FILVW].{12}[FILVW]\",\n",
    "\"[FILVW].{6}[FAILVW].{5}[FILVW]\",\n",
    "\"[RK][RK][RK][FILVW].{6}[FAILVW].{5}[FILVW]\"\n",
    "\"[FILVW].{14}[FILVW]\",\n",
    "\"[FILV]Q.{3}[RK]G.{3}[RK]..[FILVWY]\",\n",
    "\"[FILV]Q.{3}[RK].{8}\",\n",
    "\"[IVL]Q.{3}R.{4}[VL][KR]xW\",\n",
    "\"[IL]Q..C.{4}K.R.W\",\n",
    "\"[IVL]Q.{3}R.{4}[RK]..[FILVWY]\"]"
   ]
  },
  {
   "cell_type": "code",
   "execution_count": 45,
   "id": "ab4c865a",
   "metadata": {},
   "outputs": [],
   "source": [
    "IDR = \"AAKRSSNSAEYKEKNGRRKSHCRIL\""
   ]
  },
  {
   "cell_type": "code",
   "execution_count": 47,
   "id": "705fafd7",
   "metadata": {},
   "outputs": [],
   "source": [
    "test = \"WAAAFAAAALW\""
   ]
  },
  {
   "cell_type": "code",
   "execution_count": 48,
   "id": "c5771fe8",
   "metadata": {},
   "outputs": [
    {
     "name": "stdout",
     "output_type": "stream",
     "text": [
      "Found [FILVW].{8}[FILVW] in IDR\n",
      "Found [FILVW].{3}[FAILVW].{4}[FILVW] in IDR\n"
     ]
    }
   ],
   "source": [
    "for search in regex_search:\n",
    "    if re.findall(search, test):\n",
    "        print(f\"Found {search} in IDR\")"
   ]
  },
  {
   "cell_type": "code",
   "execution_count": null,
   "id": "5c96725e",
   "metadata": {},
   "outputs": [],
   "source": [
    "1-10\t[FILVW]xxxxxxxx[FILVW]\n",
    "1-5-10\t[FILVW]xxx[FAILVW]xxxx[FILVW]\n",
    "Basic 1-5-10\t[RK][RK][RK][FAILVW]xxx[FILV]xxxx[FILVW]\n",
    "1-12\t[FILVW]xxxxxxxxxx[FILVW]\n",
    "1-14\t[FILVW]xxxxxxxxxxxx[FILVW]\n",
    "1-8-14\t[FILVW]xxxxxx[FAILVW]xxxxx[FILVW]\n",
    "Basic 1-8-14\t[RK][RK][RK][FILVW]xxxxxx[FAILVW]xxxxx[FILVW]\n",
    "1-16\t[FILVW]xxxxxxxxxxxxxx[FILVW]\n",
    "Ca2+ Independent\t\n",
    "IQ\t[FILV]Qxxx[RK]Gxxx[RK]xx{FILVWY]\n",
    "IQ-like a\t[FILV]Qxxx[RK]xxxxxxxx\n",
    "IQ-2A\t[IVL]QxxxRxxxx[VL][KR]xW\n",
    "IQ-2B\t[IL]QxxCxxxxKxRxW\n",
    "IQ unconventional\t[IVL]QxxxRxxxx[RK]xx[FILVWY]"
   ]
  },
  {
   "cell_type": "code",
   "execution_count": 13,
   "id": "f66d2fd5",
   "metadata": {},
   "outputs": [],
   "source": [
    "def hydrophobic_motif(pos1, pos2, sequence):\n",
    "    classifcation_lst = [aa_classifications[aa] for aa in sequence]\n",
    "\n",
    "    hydrophobic_positions = [index for index, value in enumerate(classifcation_lst) if value == \"Hydrophobic\"]\n",
    "    distance = abs(pos1 - pos2)\n",
    "    for i in range(len(hydrophobic_positions)):\n",
    "        pos1 = hydrophobic_positions[i]\n",
    "        for j in range(i, len(hydrophobic_positions)):\n",
    "            pos2 = hydrophobic_positions[j]\n",
    "            if abs(pos2 - pos1) == distance:\n",
    "                print((pos1, sequence[pos1]),\n",
    "                        (pos2, sequence[pos2])) \n",
    "    return None"
   ]
  },
  {
   "cell_type": "code",
   "execution_count": 19,
   "id": "c6dedb2e",
   "metadata": {},
   "outputs": [
    {
     "name": "stdout",
     "output_type": "stream",
     "text": [
      "(15, 'G') (24, 'L')\n"
     ]
    }
   ],
   "source": [
    "hydrophobic_motif(1, 10, IDR)"
   ]
  },
  {
   "cell_type": "code",
   "execution_count": 20,
   "id": "b83362fb",
   "metadata": {},
   "outputs": [
    {
     "name": "stdout",
     "output_type": "stream",
     "text": [
      "(8, 'A') (21, 'C')\n"
     ]
    }
   ],
   "source": [
    "hydrophobic_motif(1, 14, IDR)"
   ]
  },
  {
   "cell_type": "code",
   "execution_count": 21,
   "id": "2518b28b",
   "metadata": {},
   "outputs": [
    {
     "name": "stdout",
     "output_type": "stream",
     "text": [
      "(0, 'A') (15, 'G')\n",
      "(8, 'A') (23, 'I')\n"
     ]
    }
   ],
   "source": [
    "hydrophobic_motif(1, 16, IDR)"
   ]
  },
  {
   "cell_type": "code",
   "execution_count": 22,
   "id": "1b8a7551",
   "metadata": {},
   "outputs": [
    {
     "data": {
      "text/plain": [
       "[0, 1, 8, 15, 21, 23, 24]"
      ]
     },
     "execution_count": 22,
     "metadata": {},
     "output_type": "execute_result"
    }
   ],
   "source": [
    "classifcation_lst = [aa_classifications[aa] for aa in IDR]\n",
    "hydrophobic_positions = [index for index, value in enumerate(classifcation_lst) if value == \"Hydrophobic\"]\n",
    "\n",
    "hydrophobic_positions"
   ]
  },
  {
   "cell_type": "code",
   "execution_count": 41,
   "id": "5bdb7c31",
   "metadata": {},
   "outputs": [
    {
     "name": "stdout",
     "output_type": "stream",
     "text": [
      "[1, 2, 9, 16, 22, 24, 25]\n",
      "[0, 1, 8, 15, 21, 23, 24]\n",
      "[-7, -6, 1, 8, 14, 16, 17]\n",
      "[-14, -13, -6, 1, 7, 9, 10]\n",
      "[-20, -19, -12, -5, 1, 3, 4]\n",
      "[-22, -21, -14, -7, -1, 1, 2]\n",
      "[-23, -22, -15, -8, -2, 0, 1]\n"
     ]
    }
   ],
   "source": [
    "for i in range(len(hydrophobic_positions)):\n",
    "    print([j - hydrophobic_positions[i] + 1 for j in hydrophobic_positions])\n"
   ]
  },
  {
   "cell_type": "code",
   "execution_count": 34,
   "id": "1edf98b3",
   "metadata": {},
   "outputs": [
    {
     "data": {
      "text/plain": [
       "[-1, 0, 7, 14, 20, 22, 23]"
      ]
     },
     "execution_count": 34,
     "metadata": {},
     "output_type": "execute_result"
    }
   ],
   "source": [
    "[i - hydrophobic_positions[1] for i in hydrophobic_positions]"
   ]
  },
  {
   "cell_type": "code",
   "execution_count": 36,
   "id": "2f1aad07",
   "metadata": {},
   "outputs": [
    {
     "data": {
      "text/plain": [
       "[-8, -7, 0, 7, 13, 15, 16]"
      ]
     },
     "execution_count": 36,
     "metadata": {},
     "output_type": "execute_result"
    }
   ],
   "source": [
    "[i - hydrophobic_positions[2] for i in hydrophobic_positions]"
   ]
  },
  {
   "cell_type": "code",
   "execution_count": null,
   "id": "d773bdf0",
   "metadata": {},
   "outputs": [],
   "source": []
  }
 ],
 "metadata": {
  "kernelspec": {
   "display_name": "Python 3",
   "language": "python",
   "name": "python3"
  },
  "language_info": {
   "codemirror_mode": {
    "name": "ipython",
    "version": 3
   },
   "file_extension": ".py",
   "mimetype": "text/x-python",
   "name": "python",
   "nbconvert_exporter": "python",
   "pygments_lexer": "ipython3",
   "version": "3.11.13"
  }
 },
 "nbformat": 4,
 "nbformat_minor": 5
}
